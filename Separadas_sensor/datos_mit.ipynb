{
 "cells": [
  {
   "cell_type": "code",
   "execution_count": 2,
   "metadata": {},
   "outputs": [
    {
     "name": "stdout",
     "output_type": "stream",
     "text": [
      "Listo.\n"
     ]
    }
   ],
   "source": [
    "import pandas as pd\n",
    "import numpy as np\n",
    "import os\n",
    "\n",
    "path = 'unionv02.csv'\n",
    "db = pd.read_csv(path, sep=\",\")\n",
    "os.mkdir('dbs')\n",
    "\n",
    "sensores = np.genfromtxt('sensores.csv', delimiter=',', dtype=str)\n",
    "top_row = sensores[:].tolist()\n",
    "    \n",
    "dsensores = np.genfromtxt('dsensores.csv', delimiter=',', dtype=str)\n",
    "top_row = dsensores[:,0].tolist() \n",
    "\n",
    "rsensores = np.genfromtxt('rsensores.csv', delimiter=',', dtype=str)\n",
    "top_row = rsensores[:,0].tolist() \n",
    "\n",
    "for i in range(int(len(sensores))):\n",
    "    dbl = db[(db.sensor==sensores[i][4:-4].capitalize())]\n",
    "    dbl.columns=rsensores[i]\n",
    "    if i<8:\n",
    "        dbl = dbl.drop(columns=dsensores[i])\n",
    "    dbl.to_csv(sensores[i],index=False)    "
   ]
  },
  {
   "cell_type": "code",
   "execution_count": null,
   "metadata": {},
   "outputs": [],
   "source": []
  }
 ],
 "metadata": {
  "kernelspec": {
   "display_name": "Python 3",
   "language": "python",
   "name": "python3"
  },
  "language_info": {
   "codemirror_mode": {
    "name": "ipython",
    "version": 3
   },
   "file_extension": ".py",
   "mimetype": "text/x-python",
   "name": "python",
   "nbconvert_exporter": "python",
   "pygments_lexer": "ipython3",
   "version": "3.8.3"
  }
 },
 "nbformat": 4,
 "nbformat_minor": 4
}
